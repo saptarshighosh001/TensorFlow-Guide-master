{
  "nbformat": 4,
  "nbformat_minor": 0,
  "metadata": {
    "colab": {
      "name": "Untitled1.ipynb",
      "version": "0.3.2",
      "provenance": [],
      "collapsed_sections": [],
      "include_colab_link": true
    },
    "kernelspec": {
      "name": "python2",
      "display_name": "Python 2"
    }
  },
  "cells": [
    {
      "cell_type": "markdown",
      "metadata": {
        "id": "view-in-github",
        "colab_type": "text"
      },
      "source": [
        "<a href=\"https://colab.research.google.com/github/Sabyasachi123276/TensorFlow-Guide/blob/master/tfguide.ipynb\" target=\"_parent\"><img src=\"https://colab.research.google.com/assets/colab-badge.svg\" alt=\"Open In Colab\"/></a>"
      ]
    },
    {
      "cell_type": "code",
      "metadata": {
        "id": "1yUzb8bmy_ek",
        "colab_type": "code",
        "colab": {}
      },
      "source": [
        ""
      ],
      "execution_count": 0,
      "outputs": []
    },
    {
      "cell_type": "markdown",
      "metadata": {
        "id": "AqqSSh67zBgK",
        "colab_type": "text"
      },
      "source": [
        ""
      ]
    },
    {
      "cell_type": "markdown",
      "metadata": {
        "id": "p14zuWV2D94q",
        "colab_type": "text"
      },
      "source": [
        "<center><h1> Deep Learning using Tensorflow</h1></center>\n",
        "<br>\n",
        "<center><img src=\"https://taking.kr/blog/wp-content/uploads/2018/08/tf_logo_social.png\" height=40% width=80% align=\"center\"></center>\n",
        "<h2>What is Tensorflow ?</h2>\n",
        "\n",
        "<p>TensorFlow is a free and open-source (high performance) software library for numerical computations that use directed graph.</p>\n",
        "\n",
        "<h2>Tensorflow Community</h2>\n",
        "\n",
        "<p><a>https://www.tensorflow.org/community</a></p>\n",
        "\n",
        "<h2>How to Install Tensorflow </h2>\n",
        "<a> $ pip install tensorflow==2.0.0-alpha0</a>\n",
        "\n",
        "<h2>Current stable release for CPU-only</h2>\n",
        "\n",
        "<p>$ pip install tensorflow</p>\n",
        "\n",
        "<h2>Preview nightly build for CPU-only (unstable)</h2>\n",
        "pip install tf-nightly\n",
        "\n",
        "<h2>Install TensorFlow 2.0 Alpha</h2>\n",
        "<p>pip install tensorflow==2.0.0-alpha0 </p>"
      ]
    },
    {
      "cell_type": "markdown",
      "metadata": {
        "id": "mKk0TSxz1mBL",
        "colab_type": "text"
      },
      "source": [
        ""
      ]
    },
    {
      "cell_type": "markdown",
      "metadata": {
        "id": "W4z3i4bcEDvg",
        "colab_type": "text"
      },
      "source": [
        "## Importing Libraries"
      ]
    },
    {
      "cell_type": "code",
      "metadata": {
        "id": "vf8iWF_t1zdu",
        "colab_type": "code",
        "colab": {}
      },
      "source": [
        "import tensorflow as tf\n",
        "import numpy as np"
      ],
      "execution_count": 0,
      "outputs": []
    },
    {
      "cell_type": "markdown",
      "metadata": {
        "id": "AUR7Lt0918oW",
        "colab_type": "text"
      },
      "source": [
        ""
      ]
    },
    {
      "cell_type": "markdown",
      "metadata": {
        "id": "ktVhE54MEIP2",
        "colab_type": "text"
      },
      "source": [
        "## Tensorflow Addition & Substraction"
      ]
    },
    {
      "cell_type": "code",
      "metadata": {
        "id": "mErBURnr2p3K",
        "colab_type": "code",
        "colab": {
          "base_uri": "https://localhost:8080/",
          "height": 68
        },
        "outputId": "0c170f92-1793-4c11-d8f2-8d3154101a94"
      },
      "source": [
        "#Adding two numbers\n",
        "n1 =tf.constant(1)\n",
        "n2 = tf.constant(2)\n",
        "n3 = n2+ n1\n",
        "with tf.Session() as sess:\n",
        "    result = sess.run(n3)\n",
        "print (\"Addition\",result)\n",
        "\n",
        "\n",
        "#Adding two numbers\n",
        "n1 =tf.constant(1)\n",
        "n2 = tf.constant(2)\n",
        "n3 = n2- n1\n",
        "with tf.Session() as sess:\n",
        "    result = sess.run(n3)\n",
        "print (\"-------------------\")\n",
        "print (\"Substraction\",result)"
      ],
      "execution_count": 3,
      "outputs": [
        {
          "output_type": "stream",
          "text": [
            "('Addition', 3)\n",
            "-------------------\n",
            "('Substraction', 1)\n"
          ],
          "name": "stdout"
        }
      ]
    },
    {
      "cell_type": "code",
      "metadata": {
        "id": "qE3eUAjL29V3",
        "colab_type": "code",
        "colab": {
          "base_uri": "https://localhost:8080/",
          "height": 34
        },
        "outputId": "bdeb2833-c428-4a44-8f25-64bb2182e895"
      },
      "source": [
        "type(n1)"
      ],
      "execution_count": 4,
      "outputs": [
        {
          "output_type": "execute_result",
          "data": {
            "text/plain": [
              "tensorflow.python.framework.ops.Tensor"
            ]
          },
          "metadata": {
            "tags": []
          },
          "execution_count": 4
        }
      ]
    },
    {
      "cell_type": "code",
      "metadata": {
        "id": "eoVu6-b43TNZ",
        "colab_type": "code",
        "colab": {
          "base_uri": "https://localhost:8080/",
          "height": 34
        },
        "outputId": "e41ae80d-47d1-43ca-f9d0-52ddfeb39a77"
      },
      "source": [
        "data= 2\n",
        "type(data)\n"
      ],
      "execution_count": 5,
      "outputs": [
        {
          "output_type": "execute_result",
          "data": {
            "text/plain": [
              "int"
            ]
          },
          "metadata": {
            "tags": []
          },
          "execution_count": 5
        }
      ]
    },
    {
      "cell_type": "code",
      "metadata": {
        "id": "DJpJt8fB3ZeB",
        "colab_type": "code",
        "colab": {}
      },
      "source": [
        ""
      ],
      "execution_count": 0,
      "outputs": []
    },
    {
      "cell_type": "markdown",
      "metadata": {
        "id": "vaSQon8E4JpE",
        "colab_type": "text"
      },
      "source": [
        ""
      ]
    },
    {
      "cell_type": "markdown",
      "metadata": {
        "id": "6zrVA-2EGluI",
        "colab_type": "text"
      },
      "source": [
        "## Tensorflow Graph"
      ]
    },
    {
      "cell_type": "code",
      "metadata": {
        "id": "1TzXqaEY4NdP",
        "colab_type": "code",
        "colab": {
          "base_uri": "https://localhost:8080/",
          "height": 34
        },
        "outputId": "60ed7d83-0f46-4351-ab91-52ad6984533a"
      },
      "source": [
        "grp= tf.Graph()\n",
        "print(grp)"
      ],
      "execution_count": 6,
      "outputs": [
        {
          "output_type": "stream",
          "text": [
            "<tensorflow.python.framework.ops.Graph object at 0x7f27f2d2f3d0>\n"
          ],
          "name": "stdout"
        }
      ]
    },
    {
      "cell_type": "code",
      "metadata": {
        "id": "IhnACyhO4UrU",
        "colab_type": "code",
        "colab": {
          "base_uri": "https://localhost:8080/",
          "height": 68
        },
        "outputId": "cd51218b-71c1-40c2-902c-ceeac179febb"
      },
      "source": [
        "## Matrix creation\n",
        "r2_matrix = tf.constant([ [1, 2],\n",
        "                          [3, 4] ],tf.int16)\n",
        "print(r2_matrix)\n",
        "\n",
        "print(\"------------------------\")\n",
        "# Shape of tensor\n",
        "m_shape = tf.constant([ [10, 11],\n",
        "                        [12, 13],\n",
        "                        [14, 15] ]                      \n",
        "                     ) \n",
        "m_shape.shape\t\t\t"
      ],
      "execution_count": 7,
      "outputs": [
        {
          "output_type": "stream",
          "text": [
            "Tensor(\"Const_4:0\", shape=(2, 2), dtype=int16)\n",
            "------------------------\n"
          ],
          "name": "stdout"
        },
        {
          "output_type": "execute_result",
          "data": {
            "text/plain": [
              "TensorShape([Dimension(3), Dimension(2)])"
            ]
          },
          "metadata": {
            "tags": []
          },
          "execution_count": 7
        }
      ]
    },
    {
      "cell_type": "code",
      "metadata": {
        "id": "cpFTBOpE49N3",
        "colab_type": "code",
        "colab": {}
      },
      "source": [
        ""
      ],
      "execution_count": 0,
      "outputs": []
    },
    {
      "cell_type": "markdown",
      "metadata": {
        "id": "X3WqQwf_5azm",
        "colab_type": "text"
      },
      "source": [
        ""
      ]
    },
    {
      "cell_type": "markdown",
      "metadata": {
        "id": "Yn0MLZRvINVc",
        "colab_type": "text"
      },
      "source": [
        "## Creating a Vector"
      ]
    },
    {
      "cell_type": "code",
      "metadata": {
        "id": "5JhdhuoQ5op4",
        "colab_type": "code",
        "colab": {
          "base_uri": "https://localhost:8080/",
          "height": 68
        },
        "outputId": "78c10470-943b-4895-b013-220a83b0ec53"
      },
      "source": [
        "# Create a vector of 0\n",
        "print(tf.zeros(10))\t\n",
        "\n",
        "\n",
        "print(\"--------------------------\")\n",
        "\n",
        "# Create a vector of 1\n",
        "print(tf.ones([10, 10]))"
      ],
      "execution_count": 8,
      "outputs": [
        {
          "output_type": "stream",
          "text": [
            "Tensor(\"zeros:0\", shape=(10,), dtype=float32)\n",
            "--------------------------\n",
            "Tensor(\"ones:0\", shape=(10, 10), dtype=float32)\n"
          ],
          "name": "stdout"
        }
      ]
    },
    {
      "cell_type": "code",
      "metadata": {
        "id": "G3y1NfWy6FV6",
        "colab_type": "code",
        "colab": {
          "base_uri": "https://localhost:8080/",
          "height": 119
        },
        "outputId": "6050a1d1-a252-4866-9d57-2ca9e642dec9"
      },
      "source": [
        "!git clone https://github.com/Sabyasachi123276/TensorFlow-Guide.git\n",
        "\n"
      ],
      "execution_count": 13,
      "outputs": [
        {
          "output_type": "stream",
          "text": [
            "Cloning into 'TensorFlow-Guide'...\n",
            "remote: Enumerating objects: 6, done.\u001b[K\n",
            "remote: Counting objects: 100% (6/6), done.\u001b[K\n",
            "remote: Compressing objects: 100% (5/5), done.\u001b[K\n",
            "remote: Total 6 (delta 0), reused 0 (delta 0), pack-reused 0\u001b[K\n",
            "Unpacking objects: 100% (6/6), done.\n"
          ],
          "name": "stdout"
        }
      ]
    },
    {
      "cell_type": "code",
      "metadata": {
        "id": "fjgaThoe6khV",
        "colab_type": "code",
        "colab": {}
      },
      "source": [
        "import io\n",
        "import zipfile\n",
        "\n",
        "dataset = \"/content/TensorFlow-Guide/short dataset.zip\"\n",
        "zip_ref = zipfile.ZipFile(dataset, \"r\")\n",
        "zip_ref.extractall()\n",
        "zip_ref.close()"
      ],
      "execution_count": 0,
      "outputs": []
    },
    {
      "cell_type": "markdown",
      "metadata": {
        "id": "XNwU2XtJ7A03",
        "colab_type": "text"
      },
      "source": [
        ""
      ]
    },
    {
      "cell_type": "code",
      "metadata": {
        "id": "dqo-dcSpObTc",
        "colab_type": "code",
        "colab": {
          "base_uri": "https://localhost:8080/",
          "height": 119
        },
        "outputId": "a5cbed44-c76d-4b46-f16e-2bfbd3ce0514"
      },
      "source": [
        "!git clone https://github.com/Sabyasachi123276/Diabetes-Detector-using-ANN-Deep-learning.git"
      ],
      "execution_count": 16,
      "outputs": [
        {
          "output_type": "stream",
          "text": [
            "Cloning into 'Diabetes-Detector-using-ANN-Deep-learning'...\n",
            "remote: Enumerating objects: 20, done.\u001b[K\n",
            "remote: Counting objects:   5% (1/20)   \u001b[K\rremote: Counting objects:  10% (2/20)   \u001b[K\rremote: Counting objects:  15% (3/20)   \u001b[K\rremote: Counting objects:  20% (4/20)   \u001b[K\rremote: Counting objects:  25% (5/20)   \u001b[K\rremote: Counting objects:  30% (6/20)   \u001b[K\rremote: Counting objects:  35% (7/20)   \u001b[K\rremote: Counting objects:  40% (8/20)   \u001b[K\rremote: Counting objects:  45% (9/20)   \u001b[K\rremote: Counting objects:  50% (10/20)   \u001b[K\rremote: Counting objects:  55% (11/20)   \u001b[K\rremote: Counting objects:  60% (12/20)   \u001b[K\rremote: Counting objects:  65% (13/20)   \u001b[K\rremote: Counting objects:  70% (14/20)   \u001b[K\rremote: Counting objects:  75% (15/20)   \u001b[K\rremote: Counting objects:  80% (16/20)   \u001b[K\rremote: Counting objects:  85% (17/20)   \u001b[K\rremote: Counting objects:  90% (18/20)   \u001b[K\rremote: Counting objects:  95% (19/20)   \u001b[K\rremote: Counting objects: 100% (20/20)   \u001b[K\rremote: Counting objects: 100% (20/20), done.\u001b[K\n",
            "remote: Compressing objects: 100% (19/19), done.\u001b[K\n",
            "remote: Total 20 (delta 6), reused 0 (delta 0), pack-reused 0\u001b[K\n",
            "Unpacking objects: 100% (20/20), done.\n"
          ],
          "name": "stdout"
        }
      ]
    },
    {
      "cell_type": "markdown",
      "metadata": {
        "id": "njhRYknfIhCH",
        "colab_type": "text"
      },
      "source": [
        "# Build your first Artifitial Neural Network on Diabates Dataset"
      ]
    },
    {
      "cell_type": "code",
      "metadata": {
        "id": "j0ny0vwE7Jf9",
        "colab_type": "code",
        "colab": {
          "base_uri": "https://localhost:8080/",
          "height": 598
        },
        "outputId": "a660e4c7-60cc-4345-a7a9-24a9494c92ea"
      },
      "source": [
        "import numpy as np\n",
        "import matplotlib.pyplot as plt\n",
        "import pandas as pd\n",
        "import tensorflow as tf\n",
        "from tensorflow import keras\n",
        "from tensorflow.keras import layers\n",
        "\n",
        "# Importing the dataset\n",
        "dataset = pd.read_csv('/content/Diabetes-Detector-using-ANN-Deep-learning/diabetes.csv')\n",
        "X_train = dataset.iloc[:, :-1].values\n",
        "y_train = dataset.iloc[:, 8].values\n",
        "\n",
        "# Encoding categorical data\n",
        "# Part 2 - Now let's make the ANN!\n",
        "\n",
        "# Importing the Keras libraries and packages\n",
        "import keras\n",
        "from keras.models import Sequential\n",
        "from keras.layers import Dense\n",
        "\n",
        "# Initialising the ANN\n",
        "\n",
        "model = tf.keras.Sequential([\n",
        "    layers.Dense(64, activation=tf.nn.relu, input_shape=\"8\"),\n",
        "    layers.Dense(64, activation=tf.nn.relu),\n",
        "    layers.Dense(1)\n",
        "  ])\n",
        "  \n",
        "optimizer = tf.keras.optimizers.RMSprop(0.001)\n",
        "model.compile(loss='binary_crossentropy',\n",
        "              optimizer=optimizer,\n",
        "              metrics=['accuracy'])\n",
        "model.summary()\n",
        "\n",
        "model.compile(optimizer = 'adam', loss = 'binary_crossentropy', metrics = ['accuracy'])\n",
        "\n",
        "# Fitting the ANN to the Training set\n",
        "model.fit(X_train, y_train, batch_size = 4, epochs = 5)"
      ],
      "execution_count": 18,
      "outputs": [
        {
          "output_type": "stream",
          "text": [
            "Using TensorFlow backend.\n",
            "WARNING: Logging before flag parsing goes to stderr.\n",
            "W0721 15:51:04.857687 139810480400256 deprecation.py:506] From /usr/local/lib/python2.7/dist-packages/tensorflow/python/ops/init_ops.py:1251: calling __init__ (from tensorflow.python.ops.init_ops) with dtype is deprecated and will be removed in a future version.\n",
            "Instructions for updating:\n",
            "Call initializer instance with the dtype argument instead of passing it to the constructor\n"
          ],
          "name": "stderr"
        },
        {
          "output_type": "stream",
          "text": [
            "Model: \"sequential\"\n",
            "_________________________________________________________________\n",
            "Layer (type)                 Output Shape              Param #   \n",
            "=================================================================\n",
            "dense (Dense)                (None, 64)                576       \n",
            "_________________________________________________________________\n",
            "dense_1 (Dense)              (None, 64)                4160      \n",
            "_________________________________________________________________\n",
            "dense_2 (Dense)              (None, 1)                 65        \n",
            "=================================================================\n",
            "Total params: 4,801\n",
            "Trainable params: 4,801\n",
            "Non-trainable params: 0\n",
            "_________________________________________________________________\n"
          ],
          "name": "stdout"
        },
        {
          "output_type": "stream",
          "text": [
            "W0721 15:51:05.291552 139810480400256 deprecation.py:323] From /usr/local/lib/python2.7/dist-packages/tensorflow/python/ops/math_grad.py:1250: where (from tensorflow.python.ops.array_ops) is deprecated and will be removed in a future version.\n",
            "Instructions for updating:\n",
            "Use tf.where in 2.0, which has the same broadcast rule as np.where\n"
          ],
          "name": "stderr"
        },
        {
          "output_type": "stream",
          "text": [
            "Epoch 1/5\n",
            "768/768 [==============================] - 1s 838us/sample - loss: 5.2970 - acc: 0.6484\n",
            "Epoch 2/5\n",
            "768/768 [==============================] - 0s 379us/sample - loss: 5.3827 - acc: 0.6510\n",
            "Epoch 3/5\n",
            "768/768 [==============================] - 0s 367us/sample - loss: 5.3827 - acc: 0.6510\n",
            "Epoch 4/5\n",
            "768/768 [==============================] - 0s 369us/sample - loss: 5.3827 - acc: 0.6510\n",
            "Epoch 5/5\n",
            "768/768 [==============================] - 0s 357us/sample - loss: 5.3827 - acc: 0.6510\n"
          ],
          "name": "stdout"
        },
        {
          "output_type": "execute_result",
          "data": {
            "text/plain": [
              "<tensorflow.python.keras.callbacks.History at 0x7f27ed180390>"
            ]
          },
          "metadata": {
            "tags": []
          },
          "execution_count": 18
        }
      ]
    },
    {
      "cell_type": "code",
      "metadata": {
        "id": "yOL6gpCf88ON",
        "colab_type": "code",
        "colab": {}
      },
      "source": [
        ""
      ],
      "execution_count": 0,
      "outputs": []
    },
    {
      "cell_type": "code",
      "metadata": {
        "id": "DqyuNETGOYtV",
        "colab_type": "code",
        "colab": {}
      },
      "source": [
        ""
      ],
      "execution_count": 0,
      "outputs": []
    }
  ]
}